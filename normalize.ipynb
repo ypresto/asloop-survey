{
 "cells": [
  {
   "cell_type": "code",
   "execution_count": 108,
   "metadata": {},
   "outputs": [],
   "source": [
    "import pandas as pd\n",
    "from pandas.util.testing import assert_series_equal\n",
    "\n",
    "df = pd.read_csv('./data/source.csv')\n",
    "q_df = pd.read_csv('./config/questions.csv')\n",
    "col_names = q_df.iloc[:, 0]\n",
    "questions = q_df.iloc[:, 1]\n",
    "questions_in_source = pd.Series(df.columns).replace(regex=r'\\.[0-9]+$', value=r'')\n",
    "assert_series_equal(questions, questions_in_source, check_names=False)\n",
    "\n",
    "df.columns = col_names.values"
   ]
  },
  {
   "cell_type": "code",
   "execution_count": null,
   "metadata": {},
   "outputs": [],
   "source": [
    "d_df = pd.read_csv('./config/duplicated.csv')\n",
    "d_df.loc[:, '質問（列）']\n",
    "out_d_df = pd.DataFrame(map(lambda col: df.duplicated(col), d_df.loc[:, '質問（列）']))\n",
    "out_d_df = out_d_df.transpose()\n",
    "out_d_df.columns = d_df.loc[:, '質問（列）'] + ': ' + d_df.loc[:, '設問文章']\n",
    "out_d_df\n",
    "# out_d_df.index += 1\n",
    "# out_d_df.to_csv('out/duplicates.csv')\n",
    "# TODO: use groupby to get index of duplicated rows?"
   ]
  },
  {
   "cell_type": "code",
   "execution_count": 76,
   "metadata": {},
   "outputs": [],
   "source": [
    "out_df = df.copy()\n",
    "out_df.columns = col_names + ': ' + questions\n",
    "out_df.index += 1\n",
    "out_df.to_csv('out/raw.csv')"
   ]
  },
  {
   "cell_type": "code",
   "execution_count": 109,
   "metadata": {},
   "outputs": [],
   "source": [
    "choices_df = pd.read_csv('./config/choices.csv')\n",
    "assert_series_equal(choices_df.loc[:, '設問文章'], questions_in_source.iloc[1:], check_names=False, check_index=False)\n",
    "out_others_df = df.copy()\n",
    "out_others_df.columns = col_names + ': ' + questions\n",
    "out_others_df.index += 1\n",
    "out_others_df.to_csv('out/raw.csv')\n"
   ]
  }
 ],
 "metadata": {
  "kernelspec": {
   "display_name": "Python 3.10.5 64-bit ('3.10.5')",
   "language": "python",
   "name": "python3"
  },
  "language_info": {
   "codemirror_mode": {
    "name": "ipython",
    "version": 3
   },
   "file_extension": ".py",
   "mimetype": "text/x-python",
   "name": "python",
   "nbconvert_exporter": "python",
   "pygments_lexer": "ipython3",
   "version": "3.10.5"
  },
  "orig_nbformat": 4,
  "vscode": {
   "interpreter": {
    "hash": "575139d177ecf74e6f0e22888850f8a6c417d55589d0fed0ad39dbb363f01ec6"
   }
  }
 },
 "nbformat": 4,
 "nbformat_minor": 2
}

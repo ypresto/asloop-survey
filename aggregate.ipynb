{
 "cells": [
  {
   "cell_type": "code",
   "execution_count": 13,
   "metadata": {},
   "outputs": [
    {
     "data": {
      "text/plain": [
       "array(['了承して、回答する'], dtype=object)"
      ]
     },
     "execution_count": 13,
     "metadata": {},
     "output_type": "execute_result"
    }
   ],
   "source": [
    "# Setup\n",
    "import pandas as pd\n",
    "from pandas.testing import assert_series_equal\n",
    "\n",
    "# Assign A,B,C,... column names to source data frame.\n",
    "\n",
    "df = pd.read_csv('./data/source.csv')\n",
    "q_df = pd.read_csv('./config/questions.csv')\n",
    "col_names = q_df.iloc[:, 0]\n",
    "questions = q_df.iloc[:, 1]\n",
    "questions_in_source = pd.Series(df.columns).replace(regex=r'\\.[0-9]+$', value=r'')\n",
    "assert_series_equal(questions, questions_in_source, check_names=False)\n",
    "\n",
    "df.columns = col_names.values\n",
    "\n",
    "drop_df = df[df['B'] != '了承して、回答する']\n",
    "\n",
    "df.drop(drop_df.index, inplace=True)\n",
    "df['B'].unique()\n"
   ]
  },
  {
   "cell_type": "code",
   "execution_count": 14,
   "metadata": {},
   "outputs": [],
   "source": [
    "out_drop_df = drop_df.copy()\n",
    "out_drop_df.index += 1\n",
    "out_drop_df.to_csv('out/drop.csv', index_label='回答番号')"
   ]
  },
  {
   "cell_type": "code",
   "execution_count": 5,
   "metadata": {},
   "outputs": [],
   "source": [
    "# Setup choices_df\n",
    "# choices_df contains multiple candidates of choice indexed by column name\n",
    "choices_df = pd.read_csv('./config/choices.csv')\n",
    "assert_series_equal(choices_df['設問文章'], questions[questions != \"タイムスタンプ\"], check_names=False, check_index=False)\n",
    "choices_df.index = col_names.drop(index=questions[questions == \"タイムスタンプ\"].index).values\n",
    "choices_df['選択肢'] = choices_df['選択肢'].str.split(',')\n"
   ]
  },
  {
   "cell_type": "code",
   "execution_count": 6,
   "metadata": {},
   "outputs": [],
   "source": [
    "# Output raw data with modified column names\n",
    "\n",
    "out_raw_df = df.copy()\n",
    "out_raw_df.columns = col_names + ': ' + questions\n",
    "out_raw_df.index += 1\n",
    "out_raw_df.to_csv('out/raw.csv', index_label=\"回答番号\")\n"
   ]
  },
  {
   "cell_type": "code",
   "execution_count": 7,
   "metadata": {},
   "outputs": [],
   "source": [
    "# Explode multiple choices into list, extract free answers\n",
    "\n",
    "free_answers_count_dict_by_col = { col: {} for col in choices_df[choices_df['自由記述'] == 1].index }\n",
    "\n",
    "# single choice cols\n",
    "for col in choices_df.loc[(choices_df['複数回答'] != 1) & (choices_df['自由記述'] == 1), :].index:\n",
    "    free_answers_count_dict_by_col[col] = df.loc[:, col].value_counts().drop(choices_df.loc[col, '選択肢'], errors='ignore').to_dict()\n",
    "\n",
    "# multi choice cols, with list\n",
    "multi_choice_answers_df = df[choices_df.loc[choices_df['複数回答'] == 1, :].index].copy()\n",
    "for col in multi_choice_answers_df.columns:\n",
    "    choices_set = frozenset(choices_df.loc[col, '選択肢'])\n",
    "\n",
    "    def split_choices(text):\n",
    "        if not isinstance(text, str):\n",
    "            return []\n",
    "        attrs = text.split(', ')\n",
    "        ret = []\n",
    "        for i, attr in enumerate(attrs):\n",
    "            if attr in choices_set:\n",
    "                ret.append(attr)\n",
    "            else:\n",
    "                # Join texts after first free answer text (users can input exact ', ')\n",
    "                rem = ', '.join(attrs[i:])\n",
    "                ret.append(rem)\n",
    "                dic = free_answers_count_dict_by_col[col]\n",
    "                dic.setdefault(rem, 0)\n",
    "                dic[rem] += 1\n",
    "                break\n",
    "        return ret\n",
    "\n",
    "    multi_choice_answers_df[col] = multi_choice_answers_df[col].apply(split_choices)\n",
    "\n",
    "out_free_answers_count_df = pd.DataFrame.from_dict(free_answers_count_dict_by_col, orient='index').stack().to_frame().astype(int)\n",
    "out_free_answers_count_df.reset_index(inplace=True)\n",
    "out_free_answers_count_df.columns = ['列番号', '回答文字列', '出現回数']\n",
    "out_free_answers_count_df.insert(1, '設問文章', choices_df.loc[out_free_answers_count_df['列番号'], '設問文章'].values)\n",
    "out_free_answers_count_df.sort_values('出現回数')\n",
    "out_free_answers_count_df.to_csv('out/free_answers.csv', index=False)"
   ]
  },
  {
   "cell_type": "code",
   "execution_count": 8,
   "metadata": {},
   "outputs": [],
   "source": [
    "# Find duplicated \n",
    "\n",
    "dup_config_df = pd.read_csv('./config/duplicated.csv')\n",
    "\n",
    "\n",
    "dup_groups_list = []\n",
    "\n",
    "full_dup_index = df[df.duplicated(df.columns.difference(['A']), keep=False)].index\n",
    "full_dup_groups = pd.DataFrame(full_dup_index, columns=['回答番号'])\n",
    "full_dup_groups.insert(0, '列番号', 'ALL')\n",
    "full_dup_groups.insert(1, '回答', 'すべて一致')\n",
    "dup_groups_list.append(full_dup_groups)\n",
    "\n",
    "non_full_dup_df = df.drop(index=full_dup_index)\n",
    "\n",
    "\n",
    "for col in dup_config_df.loc[:, '質問（列）']:\n",
    "    dup_series = non_full_dup_df.loc[non_full_dup_df.duplicated(col, keep=False), col]\n",
    "    dup_groups = dup_series.groupby(dup_series)\n",
    "    dup_groups = dup_groups.apply(lambda x: x.index)\n",
    "    dup_groups = dup_groups.drop(choices_df.loc[choices_df.index == col, '選択肢'][0], errors=\"ignore\").explode().to_frame()\n",
    "    dup_groups.columns = ['回答番号']\n",
    "    dup_groups.insert(0, '列番号', col)\n",
    "    dup_groups.insert(1, '回答', dup_groups.index)\n",
    "    dup_groups_list.append(dup_groups)\n",
    "\n",
    "out_dup_df = pd.concat(dup_groups_list, ignore_index=True)\n",
    "out_dup_df = pd.merge(out_dup_df, df, how='left', left_on='回答番号', right_index=True)\n",
    "out_dup_df['回答番号'] += 1\n",
    "out_dup_df.to_csv('out/duplicates.csv', index=False)"
   ]
  }
 ],
 "metadata": {
  "kernelspec": {
   "display_name": "Python 3.10.5 64-bit ('3.10.5')",
   "language": "python",
   "name": "python3"
  },
  "language_info": {
   "codemirror_mode": {
    "name": "ipython",
    "version": 3
   },
   "file_extension": ".py",
   "mimetype": "text/x-python",
   "name": "python",
   "nbconvert_exporter": "python",
   "pygments_lexer": "ipython3",
   "version": "3.10.5"
  },
  "orig_nbformat": 4,
  "vscode": {
   "interpreter": {
    "hash": "575139d177ecf74e6f0e22888850f8a6c417d55589d0fed0ad39dbb363f01ec6"
   }
  }
 },
 "nbformat": 4,
 "nbformat_minor": 2
}

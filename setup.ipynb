{
 "cells": [
  {
   "cell_type": "code",
   "execution_count": 26,
   "metadata": {},
   "outputs": [],
   "source": [
    "import pandas as pd\n",
    "\n",
    "headers = pd.read_csv('./config/header.csv', header=None).transpose()\n",
    "headers.columns = ['説文一覧']\n",
    "\n",
    "def to_excel_column_name(index: int):\n",
    "    if index < 26:\n",
    "        return chr(index + 65)\n",
    "    else:\n",
    "        return chr(index // 26 + 64) + chr(index % 26 + 65)\n",
    "\n",
    "\n",
    "\n",
    "headers.insert(0, '', list(map(to_excel_column_name, range(0, headers.shape[0]))))\n",
    "headers.to_csv('./config/questions.csv', index=False)"
   ]
  }
 ],
 "metadata": {
  "kernelspec": {
   "display_name": ".venv",
   "language": "python",
   "name": "python3"
  },
  "language_info": {
   "codemirror_mode": {
    "name": "ipython",
    "version": 3
   },
   "file_extension": ".py",
   "mimetype": "text/x-python",
   "name": "python",
   "nbconvert_exporter": "python",
   "pygments_lexer": "ipython3",
   "version": "3.11.6"
  }
 },
 "nbformat": 4,
 "nbformat_minor": 2
}
